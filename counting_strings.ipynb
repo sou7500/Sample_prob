{
  "nbformat": 4,
  "nbformat_minor": 0,
  "metadata": {
    "colab": {
      "provenance": [],
      "authorship_tag": "ABX9TyMG79Ays02VPf77og+dSStD",
      "include_colab_link": true
    },
    "kernelspec": {
      "name": "python3",
      "display_name": "Python 3"
    },
    "language_info": {
      "name": "python"
    }
  },
  "cells": [
    {
      "cell_type": "markdown",
      "metadata": {
        "id": "view-in-github",
        "colab_type": "text"
      },
      "source": [
        "<a href=\"https://colab.research.google.com/github/sou7500/Sample_prob/blob/main/counting_strings.ipynb\" target=\"_parent\"><img src=\"https://colab.research.google.com/assets/colab-badge.svg\" alt=\"Open In Colab\"/></a>"
      ]
    },
    {
      "cell_type": "code",
      "execution_count": null,
      "metadata": {
        "colab": {
          "base_uri": "https://localhost:8080/"
        },
        "id": "x451QmMAOsfz",
        "outputId": "83e8fd70-aa81-4968-cee6-1b1197f9a379"
      },
      "outputs": [
        {
          "output_type": "execute_result",
          "data": {
            "text/plain": [
              "array([[1, 2, 3, 4],\n",
              "       [5, 6, 1, 2],\n",
              "       [3, 4, 5, 6]])"
            ]
          },
          "metadata": {},
          "execution_count": 21
        }
      ],
      "source": [
        "import numpy as np\n",
        "x= np.array([1,2,3,4,5,6])\n",
        "y= np.resize(x,(3,4))\n",
        "y\n",
        "\n"
      ]
    },
    {
      "cell_type": "code",
      "source": [
        "x= np.array([1,2,3,4,5,6])\n",
        "x.resize(3,3)\n",
        "x"
      ],
      "metadata": {
        "colab": {
          "base_uri": "https://localhost:8080/"
        },
        "id": "zfbh57r3QnbI",
        "outputId": "260ffa9b-1c60-48cb-d03e-eef489bd9394"
      },
      "execution_count": null,
      "outputs": [
        {
          "output_type": "execute_result",
          "data": {
            "text/plain": [
              "array([[1, 2, 3],\n",
              "       [4, 5, 6],\n",
              "       [0, 0, 0]])"
            ]
          },
          "metadata": {},
          "execution_count": 17
        }
      ]
    },
    {
      "cell_type": "code",
      "source": [
        "x=[[1,2,3],[4,5,6]]\n",
        "arr= np.array(x)\n",
        "y=arr.reshape(3,2)\n",
        "z= y.flatten()\n",
        "z"
      ],
      "metadata": {
        "colab": {
          "base_uri": "https://localhost:8080/"
        },
        "id": "Wz_iuFkRR1XY",
        "outputId": "56dd1543-a400-4b74-b3ab-a2c571803d6b"
      },
      "execution_count": null,
      "outputs": [
        {
          "output_type": "execute_result",
          "data": {
            "text/plain": [
              "array([1, 2, 3, 4, 5, 6])"
            ]
          },
          "metadata": {},
          "execution_count": 30
        }
      ]
    },
    {
      "cell_type": "code",
      "source": [
        "a= '123skhVGHehW$sj&*'\n",
        "lower= 0\n",
        "upper= 0\n",
        "symbol=0\n",
        "number=0\n",
        "for i in a:\n",
        "  if (i.islower()):\n",
        "    lower+=1\n",
        "for i in a:\n",
        "  if(i.isupper()):\n",
        "    upper+=1\n",
        "for i in a:\n",
        "  if(i.isnumeric()):\n",
        "    number+=1\n",
        "symbol= len(a)-(lower + upper + number)\n",
        "print(f'The number of upper letter is {upper}')\n",
        "print(f'The number of lower letter is {lower}')\n",
        "print(f'The number of symbols is {symbol}')\n",
        "print(f'The number in strings is {number}')\n"
      ],
      "metadata": {
        "colab": {
          "base_uri": "https://localhost:8080/"
        },
        "id": "Pceqwxb_lOdg",
        "outputId": "ce83e941-f394-4d59-8e8b-765432a7a166"
      },
      "execution_count": null,
      "outputs": [
        {
          "output_type": "stream",
          "name": "stdout",
          "text": [
            "The number of upper letter is 4\n",
            "The number of lower letter is 7\n",
            "The number of symbols is 3\n",
            "The number in strings is 3\n"
          ]
        }
      ]
    },
    {
      "cell_type": "code",
      "source": [
        "sample = input('Please enter example string for testing ')\n",
        "unique_value= list(set(sample))\n",
        "freq = 0\n",
        "print(unique_value)\n",
        "\n",
        "for i in unique_value:\n",
        "  freq= sample.count(i)\n",
        "  print(f'{i} occured {freq} times in this string')\n",
        "  \n",
        "\n",
        "\n",
        "# count= 0\n",
        "# for i in a:\n",
        "#   for j in sample:\n",
        "#     if (i == j):\n",
        "#       count+=1\n",
        "#       print(f'{i} occured {count} times in this string')"
      ],
      "metadata": {
        "colab": {
          "base_uri": "https://localhost:8080/"
        },
        "id": "Y0Ly-M6nmBKb",
        "outputId": "0a2ee2b0-d087-4d43-b70a-ed96b75458c2"
      },
      "execution_count": null,
      "outputs": [
        {
          "output_type": "stream",
          "name": "stdout",
          "text": [
            "Please enter example string for testing turttretttwiiihqbbbhjjinncfyjwk\n",
            "['j', 'u', 't', 'r', 'c', 'e', 'b', 'y', 'i', 'h', 'n', 'f', 'w', 'q', 'k']\n",
            "j occured 3 times in this string\n",
            "u occured 1 times in this string\n",
            "t occured 6 times in this string\n",
            "r occured 2 times in this string\n",
            "c occured 1 times in this string\n",
            "e occured 1 times in this string\n",
            "b occured 3 times in this string\n",
            "y occured 1 times in this string\n",
            "i occured 4 times in this string\n",
            "h occured 2 times in this string\n",
            "n occured 2 times in this string\n",
            "f occured 1 times in this string\n",
            "w occured 2 times in this string\n",
            "q occured 1 times in this string\n",
            "k occured 1 times in this string\n"
          ]
        }
      ]
    },
    {
      "cell_type": "code",
      "source": [],
      "metadata": {
        "id": "hJH-rMKhtkjJ"
      },
      "execution_count": null,
      "outputs": []
    }
  ]
}